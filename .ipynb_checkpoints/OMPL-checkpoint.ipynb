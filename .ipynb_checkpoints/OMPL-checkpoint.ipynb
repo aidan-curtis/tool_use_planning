{
 "cells": [
  {
   "cell_type": "code",
   "execution_count": 11,
   "id": "7c92b412",
   "metadata": {},
   "outputs": [
    {
     "ename": "SyntaxError",
     "evalue": "invalid syntax (<ipython-input-11-953642a093ff>, line 49)",
     "output_type": "error",
     "traceback": [
      "\u001b[0;36m  File \u001b[0;32m\"<ipython-input-11-953642a093ff>\"\u001b[0;36m, line \u001b[0;32m49\u001b[0m\n\u001b[0;31m    print ss.getSolutionPath()\u001b[0m\n\u001b[0m          ^\u001b[0m\n\u001b[0;31mSyntaxError\u001b[0m\u001b[0;31m:\u001b[0m invalid syntax\n"
     ]
    }
   ],
   "source": [
    "from ompl import base as ob\n",
    "from ompl import geometric as og\n",
    " \n",
    "def isStateValid(state):\n",
    "    # \"state\" is of type SE2StateInternal, so we don't need to use the \"()\"\n",
    "    # operator.\n",
    "    #\n",
    "    # Some arbitrary condition on the state (note that thanks to\n",
    "    # dynamic type checking we can just call getX() and do not need\n",
    "    # to convert state to an SE2State.)\n",
    "    return state.getX() < .6\n",
    " \n",
    "def plan():\n",
    "    # create an SE2 state space\n",
    "    space = ob.SE2StateSpace()\n",
    "\n",
    "    # set lower and upper bounds\n",
    "    bounds = ob.RealVectorBounds(2)\n",
    "    bounds.setLow(-1)\n",
    "    bounds.setHigh(1)\n",
    "    space.setBounds(bounds)\n",
    "\n",
    "    # create a simple setup object\n",
    "    ss = og.SimpleSetup(space)\n",
    "    ss.setStateValidityChecker(ob.StateValidityCheckerFn(isStateValid))\n",
    "\n",
    "    start = ob.State(space)\n",
    "    # we can pick a random start state...\n",
    "    start.random()\n",
    "    # ... or set specific values\n",
    "    start().setX(.5)\n",
    "\n",
    "    goal = ob.State(space)\n",
    "    # we can pick a random goal state...\n",
    "    goal.random()\n",
    "    # ... or set specific values\n",
    "    goal().setX(-.5)\n",
    "\n",
    "    ss.setStartAndGoalStates(start, goal)\n",
    "\n",
    "    # this will automatically choose a default planner with\n",
    "    # default parameters\n",
    "    solved = ss.solve(1.0)\n",
    "\n",
    "#     if solved:\n",
    "#         # try to shorten the path\n",
    "#         ss.simplifySolution()\n",
    "#         # print the simplified path\n",
    "#         print ss.getSolutionPath()"
   ]
  },
  {
   "cell_type": "code",
   "execution_count": null,
   "id": "98652302",
   "metadata": {},
   "outputs": [],
   "source": []
  }
 ],
 "metadata": {
  "kernelspec": {
   "display_name": "Python 3",
   "language": "python",
   "name": "python3"
  },
  "language_info": {
   "codemirror_mode": {
    "name": "ipython",
    "version": 3
   },
   "file_extension": ".py",
   "mimetype": "text/x-python",
   "name": "python",
   "nbconvert_exporter": "python",
   "pygments_lexer": "ipython3",
   "version": "3.9.6"
  }
 },
 "nbformat": 4,
 "nbformat_minor": 5
}
